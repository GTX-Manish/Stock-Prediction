{
 "cells": [
  {
   "cell_type": "code",
   "execution_count": 1,
   "metadata": {
    "executionInfo": {
     "elapsed": 1356,
     "status": "ok",
     "timestamp": 1722341263573,
     "user": {
      "displayName": "Manish Kumar",
      "userId": "08883240438727169862"
     },
     "user_tz": -330
    },
    "id": "dwTd2r3YiBvI"
   },
   "outputs": [],
   "source": [
    "import numpy as np\n",
    "import pandas as pd\n",
    "import matplotlib.pyplot as plt\n",
    "import yfinance as yf\n",
    "import tensorflow as tf\n",
    "from tensorflow import keras\n",
    "from sklearn.preprocessing import MinMaxScaler\n",
    "from keras.layers import Dense, Dropout, LSTM\n",
    "from keras.models import Sequential"
   ]
  },
  {
   "cell_type": "code",
   "execution_count": 4,
   "metadata": {
    "colab": {
     "base_uri": "https://localhost:8080/"
    },
    "executionInfo": {
     "elapsed": 1293,
     "status": "ok",
     "timestamp": 1722341269004,
     "user": {
      "displayName": "Manish Kumar",
      "userId": "08883240438727169862"
     },
     "user_tz": -330
    },
    "id": "jF-1mgcbiJ1v",
    "outputId": "dd51d035-0274-4d99-c5d1-22b8488ffc08"
   },
   "outputs": [
    {
     "name": "stderr",
     "output_type": "stream",
     "text": [
      "\r",
      "[*********************100%%**********************]  1 of 1 completed\n"
     ]
    }
   ],
   "source": [
    "start = '2014-01-01'\n",
    "end = '2024-01-01'\n",
    "stock = 'GOOG'\n",
    "\n",
    "data = yf.download(stock, start, end)"
   ]
  },
  {
   "cell_type": "code",
   "execution_count": 5,
   "metadata": {
    "colab": {
     "base_uri": "https://localhost:8080/",
     "height": 455
    },
    "executionInfo": {
     "elapsed": 535,
     "status": "ok",
     "timestamp": 1722341279901,
     "user": {
      "displayName": "Manish Kumar",
      "userId": "08883240438727169862"
     },
     "user_tz": -330
    },
    "id": "aXWQfva3ie3m",
    "outputId": "c6240e84-3f0a-4a3f-93c4-016a7c55d007"
   },
   "outputs": [
    {
     "data": {
      "application/vnd.google.colaboratory.intrinsic+json": {
       "summary": "{\n  \"name\": \"data\",\n  \"rows\": 2516,\n  \"fields\": [\n    {\n      \"column\": \"Date\",\n      \"properties\": {\n        \"dtype\": \"date\",\n        \"min\": \"2014-01-02 00:00:00\",\n        \"max\": \"2023-12-29 00:00:00\",\n        \"num_unique_values\": 2516,\n        \"samples\": [\n          \"2016-06-15 00:00:00\",\n          \"2017-09-07 00:00:00\",\n          \"2017-09-28 00:00:00\"\n        ],\n        \"semantic_type\": \"\",\n        \"description\": \"\"\n      }\n    },\n    {\n      \"column\": \"Open\",\n      \"properties\": {\n        \"dtype\": \"number\",\n        \"std\": 37.27210851195142,\n        \"min\": 24.664783477783203,\n        \"max\": 151.86349487304688,\n        \"num_unique_values\": 2447,\n        \"samples\": [\n          91.38999938964844,\n          54.08250045776367,\n          59.25749969482422\n        ],\n        \"semantic_type\": \"\",\n        \"description\": \"\"\n      }\n    },\n    {\n      \"column\": \"High\",\n      \"properties\": {\n        \"dtype\": \"number\",\n        \"std\": 37.72709557596927,\n        \"min\": 24.73090171813965,\n        \"max\": 152.10000610351562,\n        \"num_unique_values\": 2478,\n        \"samples\": [\n          92.86399841308594,\n          25.554838180541992,\n          121.2332534790039\n        ],\n        \"semantic_type\": \"\",\n        \"description\": \"\"\n      }\n    },\n    {\n      \"column\": \"Low\",\n      \"properties\": {\n        \"dtype\": \"number\",\n        \"std\": 36.87159181940808,\n        \"min\": 24.31125259399414,\n        \"max\": 149.8874969482422,\n        \"num_unique_values\": 2481,\n        \"samples\": [\n          24.671764373779297,\n          34.60649871826172,\n          87.80400085449219\n        ],\n        \"semantic_type\": \"\",\n        \"description\": \"\"\n      }\n    },\n    {\n      \"column\": \"Close\",\n      \"properties\": {\n        \"dtype\": \"number\",\n        \"std\": 37.29896411511701,\n        \"min\": 24.560070037841797,\n        \"max\": 150.70899963378906,\n        \"num_unique_values\": 2480,\n        \"samples\": [\n          40.074501037597656,\n          25.334444046020508,\n          53.64799880981445\n        ],\n        \"semantic_type\": \"\",\n        \"description\": \"\"\n      }\n    },\n    {\n      \"column\": \"Adj Close\",\n      \"properties\": {\n        \"dtype\": \"number\",\n        \"std\": 37.25656784217278,\n        \"min\": 24.532154083251953,\n        \"max\": 150.53768920898438,\n        \"num_unique_values\": 2480,\n        \"samples\": [\n          40.02894973754883,\n          25.305646896362305,\n          53.58702087402344\n        ],\n        \"semantic_type\": \"\",\n        \"description\": \"\"\n      }\n    },\n    {\n      \"column\": \"Volume\",\n      \"properties\": {\n        \"dtype\": \"number\",\n        \"std\": 18823457,\n        \"min\": 158434,\n        \"max\": 223486554,\n        \"num_unique_values\": 2432,\n        \"samples\": [\n          36072000,\n          22580900,\n          25178000\n        ],\n        \"semantic_type\": \"\",\n        \"description\": \"\"\n      }\n    }\n  ]\n}",
       "type": "dataframe",
       "variable_name": "data"
      },
      "text/html": [
       "\n",
       "  <div id=\"df-ed47d3e9-b04d-4459-a7c2-218896c9317d\" class=\"colab-df-container\">\n",
       "    <div>\n",
       "<style scoped>\n",
       "    .dataframe tbody tr th:only-of-type {\n",
       "        vertical-align: middle;\n",
       "    }\n",
       "\n",
       "    .dataframe tbody tr th {\n",
       "        vertical-align: top;\n",
       "    }\n",
       "\n",
       "    .dataframe thead th {\n",
       "        text-align: right;\n",
       "    }\n",
       "</style>\n",
       "<table border=\"1\" class=\"dataframe\">\n",
       "  <thead>\n",
       "    <tr style=\"text-align: right;\">\n",
       "      <th></th>\n",
       "      <th>Open</th>\n",
       "      <th>High</th>\n",
       "      <th>Low</th>\n",
       "      <th>Close</th>\n",
       "      <th>Adj Close</th>\n",
       "      <th>Volume</th>\n",
       "    </tr>\n",
       "    <tr>\n",
       "      <th>Date</th>\n",
       "      <th></th>\n",
       "      <th></th>\n",
       "      <th></th>\n",
       "      <th></th>\n",
       "      <th></th>\n",
       "      <th></th>\n",
       "    </tr>\n",
       "  </thead>\n",
       "  <tbody>\n",
       "    <tr>\n",
       "      <th>2014-01-02</th>\n",
       "      <td>27.782366</td>\n",
       "      <td>27.839401</td>\n",
       "      <td>27.603037</td>\n",
       "      <td>27.724083</td>\n",
       "      <td>27.692570</td>\n",
       "      <td>73129082</td>\n",
       "    </tr>\n",
       "    <tr>\n",
       "      <th>2014-01-03</th>\n",
       "      <td>27.770908</td>\n",
       "      <td>27.818977</td>\n",
       "      <td>27.520098</td>\n",
       "      <td>27.521841</td>\n",
       "      <td>27.490559</td>\n",
       "      <td>66917888</td>\n",
       "    </tr>\n",
       "    <tr>\n",
       "      <th>2014-01-06</th>\n",
       "      <td>27.721344</td>\n",
       "      <td>27.867046</td>\n",
       "      <td>27.557707</td>\n",
       "      <td>27.828691</td>\n",
       "      <td>27.797060</td>\n",
       "      <td>71037271</td>\n",
       "    </tr>\n",
       "    <tr>\n",
       "      <th>2014-01-07</th>\n",
       "      <td>28.019974</td>\n",
       "      <td>28.385853</td>\n",
       "      <td>27.924334</td>\n",
       "      <td>28.365179</td>\n",
       "      <td>28.332937</td>\n",
       "      <td>102486711</td>\n",
       "    </tr>\n",
       "    <tr>\n",
       "      <th>2014-01-08</th>\n",
       "      <td>28.543015</td>\n",
       "      <td>28.575891</td>\n",
       "      <td>28.226450</td>\n",
       "      <td>28.424210</td>\n",
       "      <td>28.391901</td>\n",
       "      <td>90036218</td>\n",
       "    </tr>\n",
       "    <tr>\n",
       "      <th>...</th>\n",
       "      <td>...</td>\n",
       "      <td>...</td>\n",
       "      <td>...</td>\n",
       "      <td>...</td>\n",
       "      <td>...</td>\n",
       "      <td>...</td>\n",
       "    </tr>\n",
       "    <tr>\n",
       "      <th>2023-12-22</th>\n",
       "      <td>142.130005</td>\n",
       "      <td>143.250000</td>\n",
       "      <td>142.054993</td>\n",
       "      <td>142.720001</td>\n",
       "      <td>142.557770</td>\n",
       "      <td>18494700</td>\n",
       "    </tr>\n",
       "    <tr>\n",
       "      <th>2023-12-26</th>\n",
       "      <td>142.979996</td>\n",
       "      <td>143.945007</td>\n",
       "      <td>142.500000</td>\n",
       "      <td>142.820007</td>\n",
       "      <td>142.657669</td>\n",
       "      <td>11170100</td>\n",
       "    </tr>\n",
       "    <tr>\n",
       "      <th>2023-12-27</th>\n",
       "      <td>142.830002</td>\n",
       "      <td>143.320007</td>\n",
       "      <td>141.050995</td>\n",
       "      <td>141.440002</td>\n",
       "      <td>141.279236</td>\n",
       "      <td>17288400</td>\n",
       "    </tr>\n",
       "    <tr>\n",
       "      <th>2023-12-28</th>\n",
       "      <td>141.850006</td>\n",
       "      <td>142.270004</td>\n",
       "      <td>140.828003</td>\n",
       "      <td>141.279999</td>\n",
       "      <td>141.119415</td>\n",
       "      <td>12192500</td>\n",
       "    </tr>\n",
       "    <tr>\n",
       "      <th>2023-12-29</th>\n",
       "      <td>140.679993</td>\n",
       "      <td>141.434998</td>\n",
       "      <td>139.899994</td>\n",
       "      <td>140.929993</td>\n",
       "      <td>140.769806</td>\n",
       "      <td>14872700</td>\n",
       "    </tr>\n",
       "  </tbody>\n",
       "</table>\n",
       "<p>2516 rows × 6 columns</p>\n",
       "</div>\n",
       "    <div class=\"colab-df-buttons\">\n",
       "\n",
       "  <div class=\"colab-df-container\">\n",
       "    <button class=\"colab-df-convert\" onclick=\"convertToInteractive('df-ed47d3e9-b04d-4459-a7c2-218896c9317d')\"\n",
       "            title=\"Convert this dataframe to an interactive table.\"\n",
       "            style=\"display:none;\">\n",
       "\n",
       "  <svg xmlns=\"http://www.w3.org/2000/svg\" height=\"24px\" viewBox=\"0 -960 960 960\">\n",
       "    <path d=\"M120-120v-720h720v720H120Zm60-500h600v-160H180v160Zm220 220h160v-160H400v160Zm0 220h160v-160H400v160ZM180-400h160v-160H180v160Zm440 0h160v-160H620v160ZM180-180h160v-160H180v160Zm440 0h160v-160H620v160Z\"/>\n",
       "  </svg>\n",
       "    </button>\n",
       "\n",
       "  <style>\n",
       "    .colab-df-container {\n",
       "      display:flex;\n",
       "      gap: 12px;\n",
       "    }\n",
       "\n",
       "    .colab-df-convert {\n",
       "      background-color: #E8F0FE;\n",
       "      border: none;\n",
       "      border-radius: 50%;\n",
       "      cursor: pointer;\n",
       "      display: none;\n",
       "      fill: #1967D2;\n",
       "      height: 32px;\n",
       "      padding: 0 0 0 0;\n",
       "      width: 32px;\n",
       "    }\n",
       "\n",
       "    .colab-df-convert:hover {\n",
       "      background-color: #E2EBFA;\n",
       "      box-shadow: 0px 1px 2px rgba(60, 64, 67, 0.3), 0px 1px 3px 1px rgba(60, 64, 67, 0.15);\n",
       "      fill: #174EA6;\n",
       "    }\n",
       "\n",
       "    .colab-df-buttons div {\n",
       "      margin-bottom: 4px;\n",
       "    }\n",
       "\n",
       "    [theme=dark] .colab-df-convert {\n",
       "      background-color: #3B4455;\n",
       "      fill: #D2E3FC;\n",
       "    }\n",
       "\n",
       "    [theme=dark] .colab-df-convert:hover {\n",
       "      background-color: #434B5C;\n",
       "      box-shadow: 0px 1px 3px 1px rgba(0, 0, 0, 0.15);\n",
       "      filter: drop-shadow(0px 1px 2px rgba(0, 0, 0, 0.3));\n",
       "      fill: #FFFFFF;\n",
       "    }\n",
       "  </style>\n",
       "\n",
       "    <script>\n",
       "      const buttonEl =\n",
       "        document.querySelector('#df-ed47d3e9-b04d-4459-a7c2-218896c9317d button.colab-df-convert');\n",
       "      buttonEl.style.display =\n",
       "        google.colab.kernel.accessAllowed ? 'block' : 'none';\n",
       "\n",
       "      async function convertToInteractive(key) {\n",
       "        const element = document.querySelector('#df-ed47d3e9-b04d-4459-a7c2-218896c9317d');\n",
       "        const dataTable =\n",
       "          await google.colab.kernel.invokeFunction('convertToInteractive',\n",
       "                                                    [key], {});\n",
       "        if (!dataTable) return;\n",
       "\n",
       "        const docLinkHtml = 'Like what you see? Visit the ' +\n",
       "          '<a target=\"_blank\" href=https://colab.research.google.com/notebooks/data_table.ipynb>data table notebook</a>'\n",
       "          + ' to learn more about interactive tables.';\n",
       "        element.innerHTML = '';\n",
       "        dataTable['output_type'] = 'display_data';\n",
       "        await google.colab.output.renderOutput(dataTable, element);\n",
       "        const docLink = document.createElement('div');\n",
       "        docLink.innerHTML = docLinkHtml;\n",
       "        element.appendChild(docLink);\n",
       "      }\n",
       "    </script>\n",
       "  </div>\n",
       "\n",
       "\n",
       "<div id=\"df-e38016a6-093d-45b6-92df-f7ec70609fed\">\n",
       "  <button class=\"colab-df-quickchart\" onclick=\"quickchart('df-e38016a6-093d-45b6-92df-f7ec70609fed')\"\n",
       "            title=\"Suggest charts\"\n",
       "            style=\"display:none;\">\n",
       "\n",
       "<svg xmlns=\"http://www.w3.org/2000/svg\" height=\"24px\"viewBox=\"0 0 24 24\"\n",
       "     width=\"24px\">\n",
       "    <g>\n",
       "        <path d=\"M19 3H5c-1.1 0-2 .9-2 2v14c0 1.1.9 2 2 2h14c1.1 0 2-.9 2-2V5c0-1.1-.9-2-2-2zM9 17H7v-7h2v7zm4 0h-2V7h2v10zm4 0h-2v-4h2v4z\"/>\n",
       "    </g>\n",
       "</svg>\n",
       "  </button>\n",
       "\n",
       "<style>\n",
       "  .colab-df-quickchart {\n",
       "      --bg-color: #E8F0FE;\n",
       "      --fill-color: #1967D2;\n",
       "      --hover-bg-color: #E2EBFA;\n",
       "      --hover-fill-color: #174EA6;\n",
       "      --disabled-fill-color: #AAA;\n",
       "      --disabled-bg-color: #DDD;\n",
       "  }\n",
       "\n",
       "  [theme=dark] .colab-df-quickchart {\n",
       "      --bg-color: #3B4455;\n",
       "      --fill-color: #D2E3FC;\n",
       "      --hover-bg-color: #434B5C;\n",
       "      --hover-fill-color: #FFFFFF;\n",
       "      --disabled-bg-color: #3B4455;\n",
       "      --disabled-fill-color: #666;\n",
       "  }\n",
       "\n",
       "  .colab-df-quickchart {\n",
       "    background-color: var(--bg-color);\n",
       "    border: none;\n",
       "    border-radius: 50%;\n",
       "    cursor: pointer;\n",
       "    display: none;\n",
       "    fill: var(--fill-color);\n",
       "    height: 32px;\n",
       "    padding: 0;\n",
       "    width: 32px;\n",
       "  }\n",
       "\n",
       "  .colab-df-quickchart:hover {\n",
       "    background-color: var(--hover-bg-color);\n",
       "    box-shadow: 0 1px 2px rgba(60, 64, 67, 0.3), 0 1px 3px 1px rgba(60, 64, 67, 0.15);\n",
       "    fill: var(--button-hover-fill-color);\n",
       "  }\n",
       "\n",
       "  .colab-df-quickchart-complete:disabled,\n",
       "  .colab-df-quickchart-complete:disabled:hover {\n",
       "    background-color: var(--disabled-bg-color);\n",
       "    fill: var(--disabled-fill-color);\n",
       "    box-shadow: none;\n",
       "  }\n",
       "\n",
       "  .colab-df-spinner {\n",
       "    border: 2px solid var(--fill-color);\n",
       "    border-color: transparent;\n",
       "    border-bottom-color: var(--fill-color);\n",
       "    animation:\n",
       "      spin 1s steps(1) infinite;\n",
       "  }\n",
       "\n",
       "  @keyframes spin {\n",
       "    0% {\n",
       "      border-color: transparent;\n",
       "      border-bottom-color: var(--fill-color);\n",
       "      border-left-color: var(--fill-color);\n",
       "    }\n",
       "    20% {\n",
       "      border-color: transparent;\n",
       "      border-left-color: var(--fill-color);\n",
       "      border-top-color: var(--fill-color);\n",
       "    }\n",
       "    30% {\n",
       "      border-color: transparent;\n",
       "      border-left-color: var(--fill-color);\n",
       "      border-top-color: var(--fill-color);\n",
       "      border-right-color: var(--fill-color);\n",
       "    }\n",
       "    40% {\n",
       "      border-color: transparent;\n",
       "      border-right-color: var(--fill-color);\n",
       "      border-top-color: var(--fill-color);\n",
       "    }\n",
       "    60% {\n",
       "      border-color: transparent;\n",
       "      border-right-color: var(--fill-color);\n",
       "    }\n",
       "    80% {\n",
       "      border-color: transparent;\n",
       "      border-right-color: var(--fill-color);\n",
       "      border-bottom-color: var(--fill-color);\n",
       "    }\n",
       "    90% {\n",
       "      border-color: transparent;\n",
       "      border-bottom-color: var(--fill-color);\n",
       "    }\n",
       "  }\n",
       "</style>\n",
       "\n",
       "  <script>\n",
       "    async function quickchart(key) {\n",
       "      const quickchartButtonEl =\n",
       "        document.querySelector('#' + key + ' button');\n",
       "      quickchartButtonEl.disabled = true;  // To prevent multiple clicks.\n",
       "      quickchartButtonEl.classList.add('colab-df-spinner');\n",
       "      try {\n",
       "        const charts = await google.colab.kernel.invokeFunction(\n",
       "            'suggestCharts', [key], {});\n",
       "      } catch (error) {\n",
       "        console.error('Error during call to suggestCharts:', error);\n",
       "      }\n",
       "      quickchartButtonEl.classList.remove('colab-df-spinner');\n",
       "      quickchartButtonEl.classList.add('colab-df-quickchart-complete');\n",
       "    }\n",
       "    (() => {\n",
       "      let quickchartButtonEl =\n",
       "        document.querySelector('#df-e38016a6-093d-45b6-92df-f7ec70609fed button');\n",
       "      quickchartButtonEl.style.display =\n",
       "        google.colab.kernel.accessAllowed ? 'block' : 'none';\n",
       "    })();\n",
       "  </script>\n",
       "</div>\n",
       "\n",
       "  <div id=\"id_7906dbfe-4626-4f31-9a52-c26492564057\">\n",
       "    <style>\n",
       "      .colab-df-generate {\n",
       "        background-color: #E8F0FE;\n",
       "        border: none;\n",
       "        border-radius: 50%;\n",
       "        cursor: pointer;\n",
       "        display: none;\n",
       "        fill: #1967D2;\n",
       "        height: 32px;\n",
       "        padding: 0 0 0 0;\n",
       "        width: 32px;\n",
       "      }\n",
       "\n",
       "      .colab-df-generate:hover {\n",
       "        background-color: #E2EBFA;\n",
       "        box-shadow: 0px 1px 2px rgba(60, 64, 67, 0.3), 0px 1px 3px 1px rgba(60, 64, 67, 0.15);\n",
       "        fill: #174EA6;\n",
       "      }\n",
       "\n",
       "      [theme=dark] .colab-df-generate {\n",
       "        background-color: #3B4455;\n",
       "        fill: #D2E3FC;\n",
       "      }\n",
       "\n",
       "      [theme=dark] .colab-df-generate:hover {\n",
       "        background-color: #434B5C;\n",
       "        box-shadow: 0px 1px 3px 1px rgba(0, 0, 0, 0.15);\n",
       "        filter: drop-shadow(0px 1px 2px rgba(0, 0, 0, 0.3));\n",
       "        fill: #FFFFFF;\n",
       "      }\n",
       "    </style>\n",
       "    <button class=\"colab-df-generate\" onclick=\"generateWithVariable('data')\"\n",
       "            title=\"Generate code using this dataframe.\"\n",
       "            style=\"display:none;\">\n",
       "\n",
       "  <svg xmlns=\"http://www.w3.org/2000/svg\" height=\"24px\"viewBox=\"0 0 24 24\"\n",
       "       width=\"24px\">\n",
       "    <path d=\"M7,19H8.4L18.45,9,17,7.55,7,17.6ZM5,21V16.75L18.45,3.32a2,2,0,0,1,2.83,0l1.4,1.43a1.91,1.91,0,0,1,.58,1.4,1.91,1.91,0,0,1-.58,1.4L9.25,21ZM18.45,9,17,7.55Zm-12,3A5.31,5.31,0,0,0,4.9,8.1,5.31,5.31,0,0,0,1,6.5,5.31,5.31,0,0,0,4.9,4.9,5.31,5.31,0,0,0,6.5,1,5.31,5.31,0,0,0,8.1,4.9,5.31,5.31,0,0,0,12,6.5,5.46,5.46,0,0,0,6.5,12Z\"/>\n",
       "  </svg>\n",
       "    </button>\n",
       "    <script>\n",
       "      (() => {\n",
       "      const buttonEl =\n",
       "        document.querySelector('#id_7906dbfe-4626-4f31-9a52-c26492564057 button.colab-df-generate');\n",
       "      buttonEl.style.display =\n",
       "        google.colab.kernel.accessAllowed ? 'block' : 'none';\n",
       "\n",
       "      buttonEl.onclick = () => {\n",
       "        google.colab.notebook.generateWithVariable('data');\n",
       "      }\n",
       "      })();\n",
       "    </script>\n",
       "  </div>\n",
       "\n",
       "    </div>\n",
       "  </div>\n"
      ],
      "text/plain": [
       "                  Open        High         Low       Close   Adj Close  \\\n",
       "Date                                                                     \n",
       "2014-01-02   27.782366   27.839401   27.603037   27.724083   27.692570   \n",
       "2014-01-03   27.770908   27.818977   27.520098   27.521841   27.490559   \n",
       "2014-01-06   27.721344   27.867046   27.557707   27.828691   27.797060   \n",
       "2014-01-07   28.019974   28.385853   27.924334   28.365179   28.332937   \n",
       "2014-01-08   28.543015   28.575891   28.226450   28.424210   28.391901   \n",
       "...                ...         ...         ...         ...         ...   \n",
       "2023-12-22  142.130005  143.250000  142.054993  142.720001  142.557770   \n",
       "2023-12-26  142.979996  143.945007  142.500000  142.820007  142.657669   \n",
       "2023-12-27  142.830002  143.320007  141.050995  141.440002  141.279236   \n",
       "2023-12-28  141.850006  142.270004  140.828003  141.279999  141.119415   \n",
       "2023-12-29  140.679993  141.434998  139.899994  140.929993  140.769806   \n",
       "\n",
       "               Volume  \n",
       "Date                   \n",
       "2014-01-02   73129082  \n",
       "2014-01-03   66917888  \n",
       "2014-01-06   71037271  \n",
       "2014-01-07  102486711  \n",
       "2014-01-08   90036218  \n",
       "...               ...  \n",
       "2023-12-22   18494700  \n",
       "2023-12-26   11170100  \n",
       "2023-12-27   17288400  \n",
       "2023-12-28   12192500  \n",
       "2023-12-29   14872700  \n",
       "\n",
       "[2516 rows x 6 columns]"
      ]
     },
     "execution_count": 5,
     "metadata": {},
     "output_type": "execute_result"
    }
   ],
   "source": [
    "data"
   ]
  },
  {
   "cell_type": "code",
   "execution_count": 6,
   "metadata": {
    "executionInfo": {
     "elapsed": 537,
     "status": "ok",
     "timestamp": 1722341286554,
     "user": {
      "displayName": "Manish Kumar",
      "userId": "08883240438727169862"
     },
     "user_tz": -330
    },
    "id": "vcvwmHzMikOZ"
   },
   "outputs": [],
   "source": [
    "data.reset_index(inplace = True)"
   ]
  },
  {
   "cell_type": "code",
   "execution_count": 7,
   "metadata": {
    "executionInfo": {
     "elapsed": 553,
     "status": "ok",
     "timestamp": 1722341292978,
     "user": {
      "displayName": "Manish Kumar",
      "userId": "08883240438727169862"
     },
     "user_tz": -330
    },
    "id": "XfeQiY0yil2A"
   },
   "outputs": [],
   "source": [
    "data.dropna(inplace = True)"
   ]
  },
  {
   "cell_type": "code",
   "execution_count": 8,
   "metadata": {
    "executionInfo": {
     "elapsed": 558,
     "status": "ok",
     "timestamp": 1722341299965,
     "user": {
      "displayName": "Manish Kumar",
      "userId": "08883240438727169862"
     },
     "user_tz": -330
    },
    "id": "fxoOW9iminaU"
   },
   "outputs": [],
   "source": [
    "ma_100 = data.Close.rolling(100).mean()"
   ]
  },
  {
   "cell_type": "code",
   "execution_count": 9,
   "metadata": {
    "colab": {
     "base_uri": "https://localhost:8080/",
     "height": 522
    },
    "executionInfo": {
     "elapsed": 1125,
     "status": "ok",
     "timestamp": 1722341305536,
     "user": {
      "displayName": "Manish Kumar",
      "userId": "08883240438727169862"
     },
     "user_tz": -330
    },
    "id": "PV6K80_vipGi",
    "outputId": "a1c494f8-672b-4d39-d776-aac33ba8d6c2"
   },
   "outputs": [
    {
     "data": {
      "image/png": "[encoded data removed]",
      "text/plain": [
       "<Figure size 800x600 with 1 Axes>"
      ]
     },
     "metadata": {},
     "output_type": "display_data"
    }
   ],
   "source": [
    "plt.figure(figsize = (8,6))\n",
    "plt.plot(ma_100, 'r')\n",
    "plt.plot(data.Close, 'g')\n",
    "plt.show()"
   ]
  },
  {
   "cell_type": "code",
   "execution_count": 10,
   "metadata": {
    "executionInfo": {
     "elapsed": 515,
     "status": "ok",
     "timestamp": 1722341311798,
     "user": {
      "displayName": "Manish Kumar",
      "userId": "08883240438727169862"
     },
     "user_tz": -330
    },
    "id": "c08ZY2swiqTv"
   },
   "outputs": [],
   "source": [
    "ma_200 = data.Close.rolling(200).mean()"
   ]
  },
  {
   "cell_type": "code",
   "execution_count": 11,
   "metadata": {
    "colab": {
     "base_uri": "https://localhost:8080/",
     "height": 522
    },
    "executionInfo": {
     "elapsed": 1076,
     "status": "ok",
     "timestamp": 1722341317847,
     "user": {
      "displayName": "Manish Kumar",
      "userId": "08883240438727169862"
     },
     "user_tz": -330
    },
    "id": "wP84PiUTir_8",
    "outputId": "e1f1745c-8560-4e6b-f80b-088e6566348d"
   },
   "outputs": [
    {
     "data": {
      "image/png": "[encoded data removed]",
      "text/plain": [
       "<Figure size 800x600 with 1 Axes>"
      ]
     },
     "metadata": {},
     "output_type": "display_data"
    }
   ],
   "source": [
    "plt.figure(figsize = (8,6))\n",
    "plt.plot(ma_100, 'r')\n",
    "plt.plot(ma_200, 'b')\n",
    "plt.plot(data.Close, 'g')\n",
    "plt.show()"
   ]
  },
  {
   "cell_type": "code",
   "execution_count": 12,
   "metadata": {
    "executionInfo": {
     "elapsed": 527,
     "status": "ok",
     "timestamp": 1722341324727,
     "user": {
      "displayName": "Manish Kumar",
      "userId": "08883240438727169862"
     },
     "user_tz": -330
    },
    "id": "FZUeqCXRitV2"
   },
   "outputs": [],
   "source": [
    "data_train = pd.DataFrame(data.Close[0 : int(len(data)*0.80)])\n",
    "data_test = pd.DataFrame(data.Close[int(len(data)*0.80) : len(data)])"
   ]
  },
  {
   "cell_type": "code",
   "execution_count": 13,
   "metadata": {
    "colab": {
     "base_uri": "https://localhost:8080/"
    },
    "executionInfo": {
     "elapsed": 537,
     "status": "ok",
     "timestamp": 1722341331028,
     "user": {
      "displayName": "Manish Kumar",
      "userId": "08883240438727169862"
     },
     "user_tz": -330
    },
    "id": "wX6MUYdFivKp",
    "outputId": "1e71f64d-ddf1-4268-ebfa-b52b7f5ea4e7"
   },
   "outputs": [
    {
     "data": {
      "text/plain": [
       "2012"
      ]
     },
     "execution_count": 13,
     "metadata": {},
     "output_type": "execute_result"
    }
   ],
   "source": [
    "data_train.shape[0]"
   ]
  },
  {
   "cell_type": "code",
   "execution_count": 14,
   "metadata": {
    "colab": {
     "base_uri": "https://localhost:8080/"
    },
    "executionInfo": {
     "elapsed": 6,
     "status": "ok",
     "timestamp": 1722341347420,
     "user": {
      "displayName": "Manish Kumar",
      "userId": "08883240438727169862"
     },
     "user_tz": -330
    },
    "id": "4ewGfEBqiws2",
    "outputId": "e407f58d-5447-4dbd-eec9-c42f2bbcbcef"
   },
   "outputs": [
    {
     "data": {
      "text/plain": [
       "504"
      ]
     },
     "execution_count": 14,
     "metadata": {},
     "output_type": "execute_result"
    }
   ],
   "source": [
    "data_test.shape[0]"
   ]
  },
  {
   "cell_type": "code",
   "execution_count": 16,
   "metadata": {
    "executionInfo": {
     "elapsed": 539,
     "status": "ok",
     "timestamp": 1722341376488,
     "user": {
      "displayName": "Manish Kumar",
      "userId": "08883240438727169862"
     },
     "user_tz": -330
    },
    "id": "gHdJWrW3i0sE"
   },
   "outputs": [],
   "source": [
    "scaler = MinMaxScaler(feature_range = (0,1))\n",
    "data_train_scale = scaler.fit_transform(data_train)"
   ]
  },
  {
   "cell_type": "code",
   "execution_count": 51,
   "metadata": {
    "executionInfo": {
     "elapsed": 541,
     "status": "ok",
     "timestamp": 1722346101811,
     "user": {
      "displayName": "Manish Kumar",
      "userId": "08883240438727169862"
     },
     "user_tz": -330
    },
    "id": "5UBlThTZi3zP"
   },
   "outputs": [],
   "source": [
    "x = []\n",
    "y = []\n",
    "\n",
    "for i in range(100, data_train_scale.shape[0]):\n",
    "    x.append(data_train_scale[i-100 : i])\n",
    "    y.append(data_train_scale[i, 0])"
   ]
  },
  {
   "cell_type": "code",
   "execution_count": 52,
   "metadata": {
    "executionInfo": {
     "elapsed": 4,
     "status": "ok",
     "timestamp": 1722346104150,
     "user": {
      "displayName": "Manish Kumar",
      "userId": "08883240438727169862"
     },
     "user_tz": -330
    },
    "id": "XpaX-bpRi9bd"
   },
   "outputs": [],
   "source": [
    "from keras.layers import Dense, Dropout, LSTM\n",
    "from keras.models import Sequential"
   ]
  },
  {
   "cell_type": "code",
   "execution_count": 53,
   "metadata": {
    "executionInfo": {
     "elapsed": 615,
     "status": "ok",
     "timestamp": 1722346108441,
     "user": {
      "displayName": "Manish Kumar",
      "userId": "08883240438727169862"
     },
     "user_tz": -330
    },
    "id": "e5fqGDjbi_BJ"
   },
   "outputs": [],
   "source": [
    "x, y = np.array(x), np.array(y)"
   ]
  },
  {
   "cell_type": "code",
   "execution_count": 54,
   "metadata": {
    "executionInfo": {
     "elapsed": 743,
     "status": "ok",
     "timestamp": 1722346111243,
     "user": {
      "displayName": "Manish Kumar",
      "userId": "08883240438727169862"
     },
     "user_tz": -330
    },
    "id": "TfUShuOpjADd"
   },
   "outputs": [],
   "source": [
    "model = Sequential()\n",
    "model.add(LSTM(units = 50, activation = 'relu', return_sequences = True, input_shape = (x.shape[1], 1)))\n",
    "model.add(Dropout(0.2))\n",
    "\n",
    "model.add(LSTM(units = 60, activation = 'relu', return_sequences = True))\n",
    "model.add(Dropout(0.3))\n",
    "\n",
    "model.add(LSTM(units = 80, activation = 'relu', return_sequences = True))\n",
    "model.add(Dropout(0.4))\n",
    "\n",
    "model.add(LSTM(units = 120, activation = 'relu'))\n",
    "model.add(Dropout(0.5))\n",
    "\n",
    "model.add(Dense(units = 1))"
   ]
  },
  {
   "cell_type": "code",
   "execution_count": 56,
   "metadata": {
    "colab": {
     "base_uri": "https://localhost:8080/"
    },
    "executionInfo": {
     "elapsed": 991267,
     "status": "ok",
     "timestamp": 1722348361521,
     "user": {
      "displayName": "Manish Kumar",
      "userId": "08883240438727169862"
     },
     "user_tz": -330
    },
    "id": "LWxyWerSk5VR",
    "outputId": "475328e0-b969-45ee-faf2-b8f440f0efbb"
   },
   "outputs": [
    {
     "name": "stdout",
     "output_type": "stream",
     "text": [
      "Epoch 1/50\n",
      "60/60 [==============================] - 38s 489ms/step - loss: 0.0024\n",
      "Epoch 2/50\n",
      "60/60 [==============================] - 20s 329ms/step - loss: 0.0022\n",
      "Epoch 3/50\n",
      "60/60 [==============================] - 18s 300ms/step - loss: 0.0023\n",
      "Epoch 4/50\n",
      "60/60 [==============================] - 18s 302ms/step - loss: 0.0020\n",
      "Epoch 5/50\n",
      "60/60 [==============================] - 20s 331ms/step - loss: 0.0018\n",
      "Epoch 6/50\n",
      "60/60 [==============================] - 20s 331ms/step - loss: 0.0019\n",
      "Epoch 7/50\n",
      "60/60 [==============================] - 18s 303ms/step - loss: 0.0021\n",
      "Epoch 8/50\n",
      "60/60 [==============================] - 20s 336ms/step - loss: 0.0023\n",
      "Epoch 9/50\n",
      "60/60 [==============================] - 18s 306ms/step - loss: 0.0021\n",
      "Epoch 10/50\n",
      "60/60 [==============================] - 18s 303ms/step - loss: 0.0024\n",
      "Epoch 11/50\n",
      "60/60 [==============================] - 20s 337ms/step - loss: 0.0022\n",
      "Epoch 12/50\n",
      "60/60 [==============================] - 18s 303ms/step - loss: 0.0020\n",
      "Epoch 13/50\n",
      "60/60 [==============================] - 18s 302ms/step - loss: 0.0021\n",
      "Epoch 14/50\n",
      "60/60 [==============================] - 20s 337ms/step - loss: 0.0021\n",
      "Epoch 15/50\n",
      "60/60 [==============================] - 18s 299ms/step - loss: 0.0019\n",
      "Epoch 16/50\n",
      "60/60 [==============================] - 18s 304ms/step - loss: 0.0019\n",
      "Epoch 17/50\n",
      "60/60 [==============================] - 20s 333ms/step - loss: 0.0022\n",
      "Epoch 18/50\n",
      "60/60 [==============================] - 18s 304ms/step - loss: 0.0021\n",
      "Epoch 19/50\n",
      "60/60 [==============================] - 18s 303ms/step - loss: 0.0019\n",
      "Epoch 20/50\n",
      "60/60 [==============================] - 20s 335ms/step - loss: 0.0018\n",
      "Epoch 21/50\n",
      "60/60 [==============================] - 18s 306ms/step - loss: 0.0017\n",
      "Epoch 22/50\n",
      "60/60 [==============================] - 18s 305ms/step - loss: 0.0018\n",
      "Epoch 23/50\n",
      "60/60 [==============================] - 20s 337ms/step - loss: 0.0017\n",
      "Epoch 24/50\n",
      "60/60 [==============================] - 18s 302ms/step - loss: 0.0017\n",
      "Epoch 25/50\n",
      "60/60 [==============================] - 18s 303ms/step - loss: 0.0018\n",
      "Epoch 26/50\n",
      "60/60 [==============================] - 20s 330ms/step - loss: 0.0019\n",
      "Epoch 27/50\n",
      "60/60 [==============================] - 18s 302ms/step - loss: 0.0018\n",
      "Epoch 28/50\n",
      "60/60 [==============================] - 18s 298ms/step - loss: 0.0019\n",
      "Epoch 29/50\n",
      "60/60 [==============================] - 19s 326ms/step - loss: 0.0019\n",
      "Epoch 30/50\n",
      "60/60 [==============================] - 19s 307ms/step - loss: 0.0020\n",
      "Epoch 31/50\n",
      "60/60 [==============================] - 18s 301ms/step - loss: 0.0017\n",
      "Epoch 32/50\n",
      "60/60 [==============================] - 19s 318ms/step - loss: 0.0018\n",
      "Epoch 33/50\n",
      "60/60 [==============================] - 19s 318ms/step - loss: 0.0018\n",
      "Epoch 34/50\n",
      "60/60 [==============================] - 18s 304ms/step - loss: 0.0018\n",
      "Epoch 35/50\n",
      "60/60 [==============================] - 19s 314ms/step - loss: 0.0016\n",
      "Epoch 36/50\n",
      "60/60 [==============================] - 19s 314ms/step - loss: 0.0018\n",
      "Epoch 37/50\n",
      "60/60 [==============================] - 18s 305ms/step - loss: 0.0020\n",
      "Epoch 38/50\n",
      "60/60 [==============================] - 19s 318ms/step - loss: 0.0018\n",
      "Epoch 39/50\n",
      "60/60 [==============================] - 19s 311ms/step - loss: 0.0020\n",
      "Epoch 40/50\n",
      "60/60 [==============================] - 18s 305ms/step - loss: 0.0018\n",
      "Epoch 41/50\n",
      "60/60 [==============================] - 19s 319ms/step - loss: 0.0019\n",
      "Epoch 42/50\n",
      "60/60 [==============================] - 20s 323ms/step - loss: 0.0018\n",
      "Epoch 43/50\n",
      "60/60 [==============================] - 18s 308ms/step - loss: 0.0018\n",
      "Epoch 44/50\n",
      "60/60 [==============================] - 19s 317ms/step - loss: 0.0018\n",
      "Epoch 45/50\n",
      "60/60 [==============================] - 19s 312ms/step - loss: 0.0017\n",
      "Epoch 46/50\n",
      "60/60 [==============================] - 18s 297ms/step - loss: 0.0018\n",
      "Epoch 47/50\n",
      "60/60 [==============================] - 19s 315ms/step - loss: 0.0017\n",
      "Epoch 48/50\n",
      "60/60 [==============================] - 19s 318ms/step - loss: 0.0018\n",
      "Epoch 49/50\n",
      "60/60 [==============================] - 18s 302ms/step - loss: 0.0017\n",
      "Epoch 50/50\n",
      "60/60 [==============================] - 19s 315ms/step - loss: 0.0019\n"
     ]
    },
    {
     "data": {
      "text/plain": [
       "<keras.src.callbacks.History at 0x79961c0ae500>"
      ]
     },
     "execution_count": 56,
     "metadata": {},
     "output_type": "execute_result"
    }
   ],
   "source": [
    "model.compile(optimizer = tf.keras.optimizers.Adam(), loss = 'mean_squared_error')\n",
    "model.fit(x, y, epochs = 50, batch_size = 32, verbose = 1)"
   ]
  },
  {
   "cell_type": "code",
   "execution_count": 57,
   "metadata": {
    "colab": {
     "base_uri": "https://localhost:8080/"
    },
    "executionInfo": {
     "elapsed": 630,
     "status": "ok",
     "timestamp": 1722348620094,
     "user": {
      "displayName": "Manish Kumar",
      "userId": "08883240438727169862"
     },
     "user_tz": -330
    },
    "id": "Ra8uKdgBsqAj",
    "outputId": "5095872e-4886-4ad6-94a4-cffde1e96e10"
   },
   "outputs": [
    {
     "name": "stdout",
     "output_type": "stream",
     "text": [
      "Model: \"sequential_2\"\n",
      "_________________________________________________________________\n",
      " Layer (type)                Output Shape              Param #   \n",
      "=================================================================\n",
      " lstm_8 (LSTM)               (None, 100, 50)           10400     \n",
      "                                                                 \n",
      " dropout_8 (Dropout)         (None, 100, 50)           0         \n",
      "                                                                 \n",
      " lstm_9 (LSTM)               (None, 100, 60)           26640     \n",
      "                                                                 \n",
      " dropout_9 (Dropout)         (None, 100, 60)           0         \n",
      "                                                                 \n",
      " lstm_10 (LSTM)              (None, 100, 80)           45120     \n",
      "                                                                 \n",
      " dropout_10 (Dropout)        (None, 100, 80)           0         \n",
      "                                                                 \n",
      " lstm_11 (LSTM)              (None, 120)               96480     \n",
      "                                                                 \n",
      " dropout_11 (Dropout)        (None, 120)               0         \n",
      "                                                                 \n",
      " dense_1 (Dense)             (None, 1)                 121       \n",
      "                                                                 \n",
      "=================================================================\n",
      "Total params: 178761 (698.29 KB)\n",
      "Trainable params: 178761 (698.29 KB)\n",
      "Non-trainable params: 0 (0.00 Byte)\n",
      "_________________________________________________________________\n"
     ]
    }
   ],
   "source": [
    "model.summary()"
   ]
  },
  {
   "cell_type": "code",
   "execution_count": 58,
   "metadata": {
    "executionInfo": {
     "elapsed": 577,
     "status": "ok",
     "timestamp": 1722348625201,
     "user": {
      "displayName": "Manish Kumar",
      "userId": "08883240438727169862"
     },
     "user_tz": -330
    },
    "id": "EiX4SbqkxPPX"
   },
   "outputs": [],
   "source": [
    "pas_100 = data_train.tail(100)\n",
    "data_test = pd.concat([pas_100, data_test], ignore_index=True)"
   ]
  },
  {
   "cell_type": "code",
   "execution_count": 59,
   "metadata": {
    "executionInfo": {
     "elapsed": 573,
     "status": "ok",
     "timestamp": 1722348630074,
     "user": {
      "displayName": "Manish Kumar",
      "userId": "08883240438727169862"
     },
     "user_tz": -330
    },
    "id": "CQwRzdaXyHDT"
   },
   "outputs": [],
   "source": [
    "data_test_scale = scaler.fit_transform(data_test)"
   ]
  },
  {
   "cell_type": "code",
   "execution_count": 60,
   "metadata": {
    "executionInfo": {
     "elapsed": 569,
     "status": "ok",
     "timestamp": 1722348633261,
     "user": {
      "displayName": "Manish Kumar",
      "userId": "08883240438727169862"
     },
     "user_tz": -330
    },
    "id": "G-Pr6LkTyS2J"
   },
   "outputs": [],
   "source": [
    "x = []\n",
    "y = []\n",
    "\n",
    "for i in range(100, data_test_scale.shape[0]):\n",
    "    x.append(data_test_scale[i-100 : i])\n",
    "    y.append(data_test_scale[i, 0])\n",
    "\n",
    "x, y = np.array(x), np.array(y)"
   ]
  },
  {
   "cell_type": "code",
   "execution_count": 61,
   "metadata": {
    "colab": {
     "base_uri": "https://localhost:8080/"
    },
    "executionInfo": {
     "elapsed": 3596,
     "status": "ok",
     "timestamp": 1722348640156,
     "user": {
      "displayName": "Manish Kumar",
      "userId": "08883240438727169862"
     },
     "user_tz": -330
    },
    "id": "Nqm5nay7yaiP",
    "outputId": "4cda2a92-a294-4cd3-de4e-fa2cbe4f14f0"
   },
   "outputs": [
    {
     "name": "stdout",
     "output_type": "stream",
     "text": [
      "19/19 [==============================] - 2s 87ms/step\n"
     ]
    }
   ],
   "source": [
    "y_predict = model.predict(x)"
   ]
  },
  {
   "cell_type": "code",
   "execution_count": 62,
   "metadata": {
    "executionInfo": {
     "elapsed": 3,
     "status": "ok",
     "timestamp": 1722348641895,
     "user": {
      "displayName": "Manish Kumar",
      "userId": "08883240438727169862"
     },
     "user_tz": -330
    },
    "id": "hq0vPSZaymx_"
   },
   "outputs": [],
   "source": [
    "scale = 1/scaler.scale_\n",
    "y_predict = y_predict * scale\n",
    "y = y * scale"
   ]
  },
  {
   "cell_type": "code",
   "execution_count": 64,
   "metadata": {
    "colab": {
     "base_uri": "https://localhost:8080/",
     "height": 696
    },
    "executionInfo": {
     "elapsed": 1279,
     "status": "ok",
     "timestamp": 1722349542938,
     "user": {
      "displayName": "Manish Kumar",
      "userId": "08883240438727169862"
     },
     "user_tz": -330
    },
    "id": "5zJbIOy3ytsL",
    "outputId": "8233277c-da4e-4271-df4e-a0cd655f7a2a"
   },
   "outputs": [
    {
     "data": {
      "image/png": "[encoded data removed]",
      "text/plain": [
       "<Figure size 1000x800 with 1 Axes>"
      ]
     },
     "metadata": {},
     "output_type": "display_data"
    }
   ],
   "source": [
    "plt.figure(figsize = (10,8))\n",
    "plt.plot(y_predict, 'r', label = 'Predicted Price')\n",
    "plt.plot(y, 'g', label = 'Original Price')\n",
    "plt.xlabel('Time')\n",
    "plt.ylabel('Price')\n",
    "plt.legend()\n",
    "plt.show()"
   ]
  },
  {
   "cell_type": "code",
   "execution_count": 65,
   "metadata": {
    "executionInfo": {
     "elapsed": 621,
     "status": "ok",
     "timestamp": 1722349619222,
     "user": {
      "displayName": "Manish Kumar",
      "userId": "08883240438727169862"
     },
     "user_tz": -330
    },
    "id": "LQfdfY8P-roj"
   },
   "outputs": [],
   "source": [
    "model.save('stock_prediction_model.keras')"
   ]
  },
  {
   "cell_type": "code",
   "execution_count": null,
   "metadata": {
    "id": "KsSEVwRQCYJp"
   },
   "outputs": [],
   "source": []
  }
 ],
 "metadata": {
  "colab": {
   "authorship_tag": "ABX9TyM+NvWcKoKhBtTaJUEj2Xql",
   "provenance": []
  },
  "kernelspec": {
   "display_name": "Python [conda env:anaconda3]",
   "language": "python",
   "name": "conda-env-anaconda3-py"
  },
  "language_info": {
   "codemirror_mode": {
    "name": "ipython",
    "version": 3
   },
   "file_extension": ".py",
   "mimetype": "text/x-python",
   "name": "python",
   "nbconvert_exporter": "python",
   "pygments_lexer": "ipython3",
   "version": "3.9.13"
  }
 },
 "nbformat": 4,
 "nbformat_minor": 4
}
